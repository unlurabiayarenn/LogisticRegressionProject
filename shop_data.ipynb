{
 "cells": [
  {
   "metadata": {},
   "cell_type": "markdown",
   "source": "### Logistic Regression Project: Online Shoppers Purchasing Intention with Python",
   "id": "854fa689a4dcb072"
  },
  {
   "cell_type": "code",
   "id": "initial_id",
   "metadata": {
    "collapsed": true,
    "ExecuteTime": {
     "end_time": "2025-04-21T14:30:33.440634Z",
     "start_time": "2025-04-21T14:30:33.374236Z"
    }
   },
   "source": [
    "import pandas as pd\n",
    "\n",
    "# Veriyi yükle\n",
    "df = pd.read_csv(\"online_shoppers_intention.csv\")\n",
    "# https://archive.ics.uci.edu/dataset/468/online+shoppers+purchasing+intention+dataset\n",
    "\n",
    "# İlk 5 satıra göz at\n",
    "print(\"🔎 İlk 5 satır:\")\n",
    "print(df.head())"
   ],
   "outputs": [
    {
     "name": "stdout",
     "output_type": "stream",
     "text": [
      "🔎 İlk 5 satır:\n",
      "   Administrative  Administrative_Duration  Informational  \\\n",
      "0               0                      0.0              0   \n",
      "1               0                      0.0              0   \n",
      "2               0                      0.0              0   \n",
      "3               0                      0.0              0   \n",
      "4               0                      0.0              0   \n",
      "\n",
      "   Informational_Duration  ProductRelated  ProductRelated_Duration  \\\n",
      "0                     0.0               1                 0.000000   \n",
      "1                     0.0               2                64.000000   \n",
      "2                     0.0               1                 0.000000   \n",
      "3                     0.0               2                 2.666667   \n",
      "4                     0.0              10               627.500000   \n",
      "\n",
      "   BounceRates  ExitRates  PageValues  SpecialDay Month  OperatingSystems  \\\n",
      "0         0.20       0.20         0.0         0.0   Feb                 1   \n",
      "1         0.00       0.10         0.0         0.0   Feb                 2   \n",
      "2         0.20       0.20         0.0         0.0   Feb                 4   \n",
      "3         0.05       0.14         0.0         0.0   Feb                 3   \n",
      "4         0.02       0.05         0.0         0.0   Feb                 3   \n",
      "\n",
      "   Browser  Region  TrafficType        VisitorType  Weekend  Revenue  \n",
      "0        1       1            1  Returning_Visitor    False    False  \n",
      "1        2       1            2  Returning_Visitor    False    False  \n",
      "2        1       9            3  Returning_Visitor    False    False  \n",
      "3        2       2            4  Returning_Visitor    False    False  \n",
      "4        3       1            4  Returning_Visitor     True    False  \n"
     ]
    }
   ],
   "execution_count": 1
  },
  {
   "metadata": {
    "ExecuteTime": {
     "end_time": "2025-04-21T14:30:35.783045Z",
     "start_time": "2025-04-21T14:30:35.764354Z"
    }
   },
   "cell_type": "code",
   "source": [
    "# Veri kümesinin genel bilgisi\n",
    "print(\"\\n📋 Veri kümesi bilgisi:\")\n",
    "print(df.info())"
   ],
   "id": "f5d9baf26d9457c4",
   "outputs": [
    {
     "name": "stdout",
     "output_type": "stream",
     "text": [
      "\n",
      "📋 Veri kümesi bilgisi:\n",
      "<class 'pandas.core.frame.DataFrame'>\n",
      "RangeIndex: 12330 entries, 0 to 12329\n",
      "Data columns (total 18 columns):\n",
      " #   Column                   Non-Null Count  Dtype  \n",
      "---  ------                   --------------  -----  \n",
      " 0   Administrative           12330 non-null  int64  \n",
      " 1   Administrative_Duration  12330 non-null  float64\n",
      " 2   Informational            12330 non-null  int64  \n",
      " 3   Informational_Duration   12330 non-null  float64\n",
      " 4   ProductRelated           12330 non-null  int64  \n",
      " 5   ProductRelated_Duration  12330 non-null  float64\n",
      " 6   BounceRates              12330 non-null  float64\n",
      " 7   ExitRates                12330 non-null  float64\n",
      " 8   PageValues               12330 non-null  float64\n",
      " 9   SpecialDay               12330 non-null  float64\n",
      " 10  Month                    12330 non-null  object \n",
      " 11  OperatingSystems         12330 non-null  int64  \n",
      " 12  Browser                  12330 non-null  int64  \n",
      " 13  Region                   12330 non-null  int64  \n",
      " 14  TrafficType              12330 non-null  int64  \n",
      " 15  VisitorType              12330 non-null  object \n",
      " 16  Weekend                  12330 non-null  bool   \n",
      " 17  Revenue                  12330 non-null  bool   \n",
      "dtypes: bool(2), float64(7), int64(7), object(2)\n",
      "memory usage: 1.5+ MB\n",
      "None\n"
     ]
    }
   ],
   "execution_count": 2
  },
  {
   "metadata": {
    "ExecuteTime": {
     "end_time": "2025-04-21T14:30:39.228477Z",
     "start_time": "2025-04-21T14:30:39.220107Z"
    }
   },
   "cell_type": "code",
   "source": [
    "# Eksik veri var mı?\n",
    "print(\"\\n🧹 Eksik veri kontrolü:\")\n",
    "print(df.isnull().sum()) #Her bir sütunda eksik veri olup olmadığını gösterir."
   ],
   "id": "70a458f8f269ceb3",
   "outputs": [
    {
     "name": "stdout",
     "output_type": "stream",
     "text": [
      "\n",
      "🧹 Eksik veri kontrolü:\n",
      "Administrative             0\n",
      "Administrative_Duration    0\n",
      "Informational              0\n",
      "Informational_Duration     0\n",
      "ProductRelated             0\n",
      "ProductRelated_Duration    0\n",
      "BounceRates                0\n",
      "ExitRates                  0\n",
      "PageValues                 0\n",
      "SpecialDay                 0\n",
      "Month                      0\n",
      "OperatingSystems           0\n",
      "Browser                    0\n",
      "Region                     0\n",
      "TrafficType                0\n",
      "VisitorType                0\n",
      "Weekend                    0\n",
      "Revenue                    0\n",
      "dtype: int64\n"
     ]
    }
   ],
   "execution_count": 3
  },
  {
   "metadata": {
    "ExecuteTime": {
     "end_time": "2025-04-21T14:30:42.285563Z",
     "start_time": "2025-04-21T14:30:42.253160Z"
    }
   },
   "cell_type": "code",
   "source": [
    "# Veri çerçevesinin temel istatistiklerine göz atalım\n",
    "print(df.describe())"
   ],
   "id": "7ae21ff2693bddbc",
   "outputs": [
    {
     "name": "stdout",
     "output_type": "stream",
     "text": [
      "       Administrative  Administrative_Duration  Informational  \\\n",
      "count    12330.000000             12330.000000   12330.000000   \n",
      "mean         2.315166                80.818611       0.503569   \n",
      "std          3.321784               176.779107       1.270156   \n",
      "min          0.000000                 0.000000       0.000000   \n",
      "25%          0.000000                 0.000000       0.000000   \n",
      "50%          1.000000                 7.500000       0.000000   \n",
      "75%          4.000000                93.256250       0.000000   \n",
      "max         27.000000              3398.750000      24.000000   \n",
      "\n",
      "       Informational_Duration  ProductRelated  ProductRelated_Duration  \\\n",
      "count            12330.000000    12330.000000             12330.000000   \n",
      "mean                34.472398       31.731468              1194.746220   \n",
      "std                140.749294       44.475503              1913.669288   \n",
      "min                  0.000000        0.000000                 0.000000   \n",
      "25%                  0.000000        7.000000               184.137500   \n",
      "50%                  0.000000       18.000000               598.936905   \n",
      "75%                  0.000000       38.000000              1464.157214   \n",
      "max               2549.375000      705.000000             63973.522230   \n",
      "\n",
      "        BounceRates     ExitRates    PageValues    SpecialDay  \\\n",
      "count  12330.000000  12330.000000  12330.000000  12330.000000   \n",
      "mean       0.022191      0.043073      5.889258      0.061427   \n",
      "std        0.048488      0.048597     18.568437      0.198917   \n",
      "min        0.000000      0.000000      0.000000      0.000000   \n",
      "25%        0.000000      0.014286      0.000000      0.000000   \n",
      "50%        0.003112      0.025156      0.000000      0.000000   \n",
      "75%        0.016813      0.050000      0.000000      0.000000   \n",
      "max        0.200000      0.200000    361.763742      1.000000   \n",
      "\n",
      "       OperatingSystems       Browser        Region   TrafficType  \n",
      "count      12330.000000  12330.000000  12330.000000  12330.000000  \n",
      "mean           2.124006      2.357097      3.147364      4.069586  \n",
      "std            0.911325      1.717277      2.401591      4.025169  \n",
      "min            1.000000      1.000000      1.000000      1.000000  \n",
      "25%            2.000000      2.000000      1.000000      2.000000  \n",
      "50%            2.000000      2.000000      3.000000      2.000000  \n",
      "75%            3.000000      2.000000      4.000000      4.000000  \n",
      "max            8.000000     13.000000      9.000000     20.000000  \n"
     ]
    }
   ],
   "execution_count": 4
  },
  {
   "metadata": {},
   "cell_type": "markdown",
   "source": [
    "#### 1. Kategorik Verilerin Dönüştürülmesi\n",
    "Month, VisitorType, ve Weekend sütunları makine öğrenmesi algoritmaları için sayısal hale getirilmeli (örn. OneHotEncoding veya LabelEncoding)."
   ],
   "id": "e270dffcf1b3767b"
  },
  {
   "metadata": {
    "ExecuteTime": {
     "end_time": "2025-04-21T14:31:54.167019Z",
     "start_time": "2025-04-21T14:31:54.143Z"
    }
   },
   "cell_type": "code",
   "source": [
    "# One-Hot Encoding uygulanacak sütunlar\n",
    "df = pd.get_dummies(df, columns=['Month', 'VisitorType'], drop_first=True)\n",
    "\n",
    "# 'Weekend' ve 'Revenue' sütunlarını int'e çevir\n",
    "df['Weekend'] = df['Weekend'].astype(int) #astype(int): Bu fonksiyon, sütundaki tüm verileri integer türüne dönüştürür.\n",
    "df['Revenue'] = df['Revenue'].astype(int)\n",
    "\n",
    "print(\"✅ Kategorik veriler sayısallaştırıldı!\")\n",
    "print(\"🧾 Yeni sütunlar:\", df.columns.tolist())"
   ],
   "id": "797ab92213d8c14b",
   "outputs": [
    {
     "name": "stdout",
     "output_type": "stream",
     "text": [
      "✅ Kategorik veriler sayısallaştırıldı!\n",
      "🧾 Yeni sütunlar: ['Administrative', 'Administrative_Duration', 'Informational', 'Informational_Duration', 'ProductRelated', 'ProductRelated_Duration', 'BounceRates', 'ExitRates', 'PageValues', 'SpecialDay', 'OperatingSystems', 'Browser', 'Region', 'TrafficType', 'Weekend', 'Revenue', 'Month_Dec', 'Month_Feb', 'Month_Jul', 'Month_June', 'Month_Mar', 'Month_May', 'Month_Nov', 'Month_Oct', 'Month_Sep', 'VisitorType_Other', 'VisitorType_Returning_Visitor']\n"
     ]
    }
   ],
   "execution_count": 5
  },
  {
   "metadata": {},
   "cell_type": "markdown",
   "source": "**pd.get_dummies():** Bu fonksiyon, kategorik sütunları sayısal verilere dönüştürür. drop_first=True parametresi, ilk sütununun çıkarılmasını sağlar. Bu, multicollinearity (çoklu doğrusal ilişki) riskini azaltır.",
   "id": "1af89a275a829114"
  },
  {
   "metadata": {},
   "cell_type": "markdown",
   "source": [
    "#### Veri Özelliklerinin ve Hedef Değişkenin Ayrılması:\n",
    "Şimdi, verimizin özelliklerini (bağımsız değişkenler) ve hedef değişkenini (bağımlı değişken) ayıralım.\n",
    "\n",
    "X: Özellikler (bağımsız değişkenler). Burada tüm sütunları kullanacağız, ama Revenue hedef değişken olduğu için bunu dışarıda bırakacağız.\n",
    "\n",
    "y: Hedef değişken (bağımlı değişken). Bu durumda Revenue sütununu hedef değişken olarak alacağız."
   ],
   "id": "c1f4f93d44c35b8a"
  },
  {
   "metadata": {
    "ExecuteTime": {
     "end_time": "2025-04-21T14:41:41.575678Z",
     "start_time": "2025-04-21T14:41:41.491754Z"
    }
   },
   "cell_type": "code",
   "source": [
    "# Özellikleri ve hedef değişkeni ayıralım\n",
    "X = df.drop('Revenue', axis=1)  # 'Revenue' sütununu çıkarıyoruz\n",
    "y = df['Revenue']  # 'Revenue' hedef değişken"
   ],
   "id": "23ffdc15873e59a4",
   "outputs": [],
   "execution_count": 6
  },
  {
   "metadata": {},
   "cell_type": "markdown",
   "source": "### Veriyi Eğitim ve Test Olarak Ayırma:",
   "id": "75dfcc82aa1d0335"
  },
  {
   "metadata": {
    "ExecuteTime": {
     "end_time": "2025-04-21T14:43:18.030870Z",
     "start_time": "2025-04-21T14:43:17.040006Z"
    }
   },
   "cell_type": "code",
   "source": [
    "from sklearn.model_selection import train_test_split\n",
    "\n",
    "# Veriyi eğitim ve test setlerine ayırıyoruz\n",
    "X_train, X_test, y_train, y_test = train_test_split(X, y, test_size=0.2, random_state=42)\n"
   ],
   "id": "326dd4ecc36044bf",
   "outputs": [],
   "execution_count": 7
  },
  {
   "metadata": {},
   "cell_type": "markdown",
   "source": "## veri ölçeklendirme",
   "id": "2ec3df4752ade2a7"
  },
  {
   "metadata": {
    "ExecuteTime": {
     "end_time": "2025-04-21T14:43:42.090101Z",
     "start_time": "2025-04-21T14:43:42.046253Z"
    }
   },
   "cell_type": "code",
   "source": [
    "from sklearn.preprocessing import StandardScaler\n",
    "\n",
    "# Standartlaştırıcıyı oluşturuyoruz\n",
    "scaler = StandardScaler()\n",
    "\n",
    "# Eğitim verisini standartlaştırıyoruz\n",
    "X_train_scaled = scaler.fit_transform(X_train)\n",
    "\n",
    "# Test verisini standartlaştırıyoruz (fit kullanmadan, sadece transform)\n",
    "X_test_scaled = scaler.transform(X_test)"
   ],
   "id": "d84235693c4824fd",
   "outputs": [],
   "execution_count": 8
  },
  {
   "metadata": {},
   "cell_type": "markdown",
   "source": "#### Lojistik Regresyon Modelini Eğitmek:",
   "id": "1a885972bc582a85"
  },
  {
   "metadata": {
    "ExecuteTime": {
     "end_time": "2025-04-21T14:44:09.686001Z",
     "start_time": "2025-04-21T14:44:09.408618Z"
    }
   },
   "cell_type": "code",
   "source": [
    "from sklearn.linear_model import LogisticRegression\n",
    "\n",
    "# Lojistik regresyon modelini tanımlıyoruz\n",
    "model = LogisticRegression(max_iter=1000)\n",
    "\n",
    "# Modeli eğitim verisiyle eğitiyoruz\n",
    "model.fit(X_train_scaled, y_train)\n",
    "\n",
    "print(\"✅ Model eğitildi!\")\n"
   ],
   "id": "fb5b3c1a8c7b573d",
   "outputs": [
    {
     "name": "stdout",
     "output_type": "stream",
     "text": [
      "✅ Model eğitildi!\n"
     ]
    }
   ],
   "execution_count": 9
  },
  {
   "metadata": {},
   "cell_type": "markdown",
   "source": "### Modelin Test Verisi Üzerindeki Doğruluğu:",
   "id": "5fa85efeb963b5cf"
  },
  {
   "metadata": {
    "ExecuteTime": {
     "end_time": "2025-04-21T14:59:36.042676Z",
     "start_time": "2025-04-21T14:59:36.019040Z"
    }
   },
   "cell_type": "code",
   "source": [
    "from sklearn.metrics import accuracy_score\n",
    "\n",
    "# Test verisi üzerinde tahminler yapalım\n",
    "y_pred = model.predict(X_test_scaled)\n",
    "\n",
    "# Doğruluk oranını hesaplayalım\n",
    "accuracy = accuracy_score(y_test, y_pred) #Gerçek test etiketleri ile tahmin edilen etiketleri karşılaştırarak doğruluk oranını hesaplıyoruz.\n",
    "\n",
    "print(f\"✅ Modelin doğruluğu: {accuracy:.4f}\")"
   ],
   "id": "6f5e04c762630caa",
   "outputs": [
    {
     "name": "stdout",
     "output_type": "stream",
     "text": [
      "✅ Modelin doğruluğu: 0.8731\n"
     ]
    }
   ],
   "execution_count": 11
  },
  {
   "metadata": {},
   "cell_type": "markdown",
   "source": [
    "### Karışıklık Matrisi (Confusion Matrix):\n",
    "Karışıklık matrisi, modelin doğru ve yanlış sınıflandırmalarını gösteren bir tablodur. Bu matrisi görmek, modelin hangi sınıflarda hata yaptığını anlamamıza yardımcı olabilir."
   ],
   "id": "6f0ffc5ae72aed2"
  },
  {
   "metadata": {
    "ExecuteTime": {
     "end_time": "2025-04-21T15:01:21.032675Z",
     "start_time": "2025-04-21T15:01:20.999464Z"
    }
   },
   "cell_type": "code",
   "source": [
    "from sklearn.metrics import confusion_matrix\n",
    "\n",
    "# Karışıklık matrisini hesaplayalım\n",
    "cm = confusion_matrix(y_test, y_pred)\n",
    "# confusion_matrix(y_test, y_pred): Test verisi ve modelin tahminleri arasındaki karışıklığı gösterir.\n",
    "print(\"✅ Karışıklık Matrisi:\")\n",
    "print(cm)"
   ],
   "id": "eb4701a6271765d5",
   "outputs": [
    {
     "name": "stdout",
     "output_type": "stream",
     "text": [
      "✅ Karışıklık Matrisi:\n",
      "[[2008   47]\n",
      " [ 266  145]]\n"
     ]
    }
   ],
   "execution_count": 12
  },
  {
   "metadata": {},
   "cell_type": "markdown",
   "source": [
    "### Precision, Recall ve F1 Skoru:\n",
    "\n",
    "Bu metrikler, özellikle dengesiz sınıf dağılımlarında modelin gerçek performansını daha iyi anlamamıza yardımcı olur.\n",
    "\n",
    "* **Precision:** Pozitif tahminlerimizin ne kadarının doğru olduğunu gösterir.\n",
    "* **Recall:** Gerçek pozitif sınıfların ne kadarını doğru tahmin ettiğimizi gösterir.\n",
    "* **F1 Skoru:** Precision ve recall'un harmonik ortalamasıdır, her ikisini dengeleyerek modelin genel başarısını ölçer."
   ],
   "id": "7a468b34edef0735"
  },
  {
   "metadata": {
    "ExecuteTime": {
     "end_time": "2025-04-21T15:03:04.984817Z",
     "start_time": "2025-04-21T15:03:04.952361Z"
    }
   },
   "cell_type": "code",
   "source": [
    "from sklearn.metrics import precision_score, recall_score, f1_score\n",
    "\n",
    "# Precision, Recall ve F1 Skorunu hesaplayalım\n",
    "precision = precision_score(y_test, y_pred)\n",
    "recall = recall_score(y_test, y_pred)\n",
    "f1 = f1_score(y_test, y_pred)\n",
    "\n",
    "print(f\"✅ Precision: {precision:.4f}\")\n",
    "print(f\"✅ Recall: {recall:.4f}\")\n",
    "print(f\"✅ F1 Skoru: {f1:.4f}\")"
   ],
   "id": "3c9b48de446a13d6",
   "outputs": [
    {
     "name": "stdout",
     "output_type": "stream",
     "text": [
      "✅ Precision: 0.7552\n",
      "✅ Recall: 0.3528\n",
      "✅ F1 Skoru: 0.4809\n"
     ]
    }
   ],
   "execution_count": 13
  },
  {
   "metadata": {},
   "cell_type": "markdown",
   "source": [
    "### ROC ve AUC:\n",
    "\n",
    "Receiver Operating Characteristic (ROC) eğrisi ve AUC (Area Under Curve), modelin doğruluk oranının ötesinde performansını gösteren önemli metriklerdir.\n",
    "\n",
    "\n",
    "* **roc_curve():** ROC eğrisini çizerken kullanılan değerleri döndürür.\n",
    "* **model.predict_proba():** Modelin her bir örnek için her sınıfın olasılıklarını tahmin etmesine olanak tanır. **[:, 1]** ifadesi, pozitif sınıfın olasılıklarını alır.\n",
    "* **auc():** AUC değerini hesaplar."
   ],
   "id": "550bbb86ee54144"
  },
  {
   "metadata": {
    "ExecuteTime": {
     "end_time": "2025-04-21T15:05:28.574145Z",
     "start_time": "2025-04-21T15:05:28.199352Z"
    }
   },
   "cell_type": "code",
   "source": [
    "from sklearn.metrics import roc_curve, auc\n",
    "import matplotlib.pyplot as plt\n",
    "\n",
    "# ROC eğrisini çizmek için gerekli değerleri alalım\n",
    "fpr, tpr, thresholds = roc_curve(y_test, model.predict_proba(X_test_scaled)[:, 1])\n",
    "roc_auc = auc(fpr, tpr)\n",
    "\n",
    "# ROC eğrisini çizelim\n",
    "plt.figure(figsize=(8,6))\n",
    "plt.plot(fpr, tpr, color='blue', lw=2, label='ROC (area = %0.2f)' % roc_auc)\n",
    "plt.plot([0, 1], [0, 1], color='gray', linestyle='--')\n",
    "plt.xlim([0.0, 1.0])\n",
    "plt.ylim([0.0, 1.05])\n",
    "plt.xlabel('False Positive Rate')\n",
    "plt.ylabel('True Positive Rate')\n",
    "plt.title('Receiver Operating Characteristic')\n",
    "plt.legend(loc='lower right')\n",
    "plt.show()\n",
    "\n",
    "print(f\"✅ AUC: {roc_auc:.4f}\")"
   ],
   "id": "e053eacac2be3058",
   "outputs": [
    {
     "data": {
      "text/plain": [
       "<Figure size 800x600 with 1 Axes>"
      ],
      "image/png": "[encoded data removed]"
     },
     "metadata": {},
     "output_type": "display_data"
    },
    {
     "name": "stdout",
     "output_type": "stream",
     "text": [
      "✅ AUC: 0.8902\n"
     ]
    }
   ],
   "execution_count": 14
  },
  {
   "metadata": {
    "ExecuteTime": {
     "end_time": "2025-04-21T15:06:41.454624Z",
     "start_time": "2025-04-21T15:06:41.444865Z"
    }
   },
   "cell_type": "code",
   "source": [
    "import joblib\n",
    "\n",
    "# Modeli kaydedelim\n",
    "joblib.dump(model, 'logistic_regression_model.pkl')\n",
    "\n",
    "print(\"✅ Model kaydedildi!\")"
   ],
   "id": "7c2bc0e214b9c283",
   "outputs": [
    {
     "name": "stdout",
     "output_type": "stream",
     "text": [
      "✅ Model kaydedildi!\n"
     ]
    }
   ],
   "execution_count": 15
  }
 ],
 "metadata": {
  "kernelspec": {
   "display_name": "Python 3",
   "language": "python",
   "name": "python3"
  },
  "language_info": {
   "codemirror_mode": {
    "name": "ipython",
    "version": 2
   },
   "file_extension": ".py",
   "mimetype": "text/x-python",
   "name": "python",
   "nbconvert_exporter": "python",
   "pygments_lexer": "ipython2",
   "version": "2.7.6"
  }
 },
 "nbformat": 4,
 "nbformat_minor": 5
}
